{
 "cells": [
  {
   "cell_type": "code",
   "execution_count": 16,
   "id": "02591d89",
   "metadata": {},
   "outputs": [
    {
     "name": "stdout",
     "output_type": "stream",
     "text": [
      "<selenium.webdriver.remote.webelement.WebElement (session=\"4b6c354fc562f22c065b3a82bf4ffdfa\", element=\"f8601893-17e9-40b1-a2f3-0c1d3a166e1d\")>\n"
     ]
    },
    {
     "name": "stderr",
     "output_type": "stream",
     "text": [
      "/tmp/ipykernel_51521/2169539344.py:8: DeprecationWarning: find_element_by_xpath is deprecated. Please use find_element(by=By.XPATH, value=xpath) instead\n",
      "  job_titles = driver.find_element_by_xpath(xpath_val)\n"
     ]
    }
   ],
   "source": [
    "from selenium import webdriver\n",
    "\n",
    "driver = webdriver.Chrome()\n",
    "url = \"https://www.indeed.com/jobs?q=data%20scientist&l=remote&vjk=1636faa0308fd08f\"\n",
    "driver.get(url)\n",
    "\n",
    "xpath_val = '//*[@id=\"viewJobSSRRoot\"]/div[1]/div/div[3]/div/div/div[1]/div[1]/div[2]/div[1]/div[1]/h1'\n",
    "job_titles = driver.find_element_by_xpath(xpath_val)\n",
    "print(job_titles)"
   ]
  }
 ],
 "metadata": {
  "kernelspec": {
   "display_name": "Python 3 (ipykernel)",
   "language": "python",
   "name": "python3"
  },
  "language_info": {
   "codemirror_mode": {
    "name": "ipython",
    "version": 3
   },
   "file_extension": ".py",
   "mimetype": "text/x-python",
   "name": "python",
   "nbconvert_exporter": "python",
   "pygments_lexer": "ipython3",
   "version": "3.9.4"
  }
 },
 "nbformat": 4,
 "nbformat_minor": 5
}
