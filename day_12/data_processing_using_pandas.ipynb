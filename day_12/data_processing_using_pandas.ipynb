{
 "cells": [
  {
   "cell_type": "code",
   "execution_count": 28,
   "id": "fc35535e",
   "metadata": {},
   "outputs": [],
   "source": [
    "with open(\"day_12.md\",'w') as f:\n",
    "    f.write(\"# NUMPY \\n\")\n",
    "    f.write(\"* It is used for data processing\")\n",
    "#     f.writelines(\"numpy is used for processing data.\")\n",
    "#     f.write(\"does this create a new line\")\n",
    "#     f.writelines(\"does this create a new line now\")\n"
   ]
  },
  {
   "cell_type": "code",
   "execution_count": 29,
   "id": "7416d5d5",
   "metadata": {},
   "outputs": [
    {
     "name": "stdout",
     "output_type": "stream",
     "text": [
      "# NUMPY \n",
      "* It is used for data processing\n"
     ]
    }
   ],
   "source": [
    "with open(\"day_12.md\",'r') as f:\n",
    "    print(f.read())"
   ]
  },
  {
   "cell_type": "code",
   "execution_count": null,
   "id": "73ba03ed",
   "metadata": {},
   "outputs": [],
   "source": [
    "\n"
   ]
  }
 ],
 "metadata": {
  "kernelspec": {
   "display_name": "Python 3 (ipykernel)",
   "language": "python",
   "name": "python3"
  },
  "language_info": {
   "codemirror_mode": {
    "name": "ipython",
    "version": 3
   },
   "file_extension": ".py",
   "mimetype": "text/x-python",
   "name": "python",
   "nbconvert_exporter": "python",
   "pygments_lexer": "ipython3",
   "version": "3.9.4"
  }
 },
 "nbformat": 4,
 "nbformat_minor": 5
}
