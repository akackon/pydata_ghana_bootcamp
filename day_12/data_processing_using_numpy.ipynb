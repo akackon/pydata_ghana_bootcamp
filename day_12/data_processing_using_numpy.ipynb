{
 "cells": [
  {
   "cell_type": "code",
   "execution_count": 8,
   "id": "dc440947",
   "metadata": {
    "collapsed": true
   },
   "outputs": [
    {
     "data": {
      "text/plain": [
       "1"
      ]
     },
     "execution_count": 8,
     "metadata": {},
     "output_type": "execute_result"
    }
   ],
   "source": [
    "import numpy as np\n",
    "b = np.array([21,4.0,3.2,0,16])\n",
    "b.ndim # this is a scalar, because its ndim is 1"
   ]
  },
  {
   "cell_type": "code",
   "execution_count": 11,
   "id": "d08e288c",
   "metadata": {
    "collapsed": true
   },
   "outputs": [
    {
     "data": {
      "text/plain": [
       "2"
      ]
     },
     "execution_count": 11,
     "metadata": {},
     "output_type": "execute_result"
    }
   ],
   "source": [
    "c = np.array([[1,2,3,4],[0,3,1,4]])\n",
    "c.ndim # this is a matrix, because its ndim is >=2"
   ]
  },
  {
   "cell_type": "code",
   "execution_count": 51,
   "id": "ef6ce707",
   "metadata": {
    "collapsed": true
   },
   "outputs": [
    {
     "name": "stdout",
     "output_type": "stream",
     "text": [
      "[0.04 0.01 0.71 0.18 0.07]\n"
     ]
    },
    {
     "data": {
      "text/plain": [
       "(5,)"
      ]
     },
     "execution_count": 51,
     "metadata": {},
     "output_type": "execute_result"
    }
   ],
   "source": [
    "# generating a random list of floats and inputting them into the array\n",
    "import random\n",
    "rand=[]\n",
    "for i in range(5):\n",
    "   rand.append(round(random.random(),2))\n",
    "d = np.array(rand)\n",
    "print(d)\n",
    "d.shape"
   ]
  },
  {
   "cell_type": "code",
   "execution_count": 116,
   "id": "215f181a",
   "metadata": {
    "collapsed": true
   },
   "outputs": [
    {
     "name": "stdout",
     "output_type": "stream",
     "text": [
      "[[0.08 0.36 0.13 0.36 0.43]\n",
      " [0.93 0.24 0.04 0.64 0.51]]\n"
     ]
    },
    {
     "data": {
      "text/plain": [
       "(2, 5)"
      ]
     },
     "execution_count": 116,
     "metadata": {},
     "output_type": "execute_result"
    }
   ],
   "source": [
    "# generating a random list of floats and inputting them into the array\n",
    "import random\n",
    "rand_row=[]\n",
    "rand_col=[]\n",
    "for i in range(5):\n",
    "   rand_row.append(round(random.random(),2))\n",
    "   rand_col.append(round(random.random(),2))\n",
    "\n",
    "\n",
    "d = np.array([rand_row,rand_col])\n",
    "print(d)\n",
    "d.shape"
   ]
  },
  {
   "cell_type": "code",
   "execution_count": 117,
   "id": "d76984bb",
   "metadata": {},
   "outputs": [
    {
     "data": {
      "text/plain": [
       "(3, 3)"
      ]
     },
     "execution_count": 117,
     "metadata": {},
     "output_type": "execute_result"
    }
   ],
   "source": [
    "my_list=[[1,2,3],[4,5,6],[7,8,9]]\n",
    "e = np.array(my_list)\n",
    "e.shape"
   ]
  },
  {
   "cell_type": "code",
   "execution_count": 69,
   "id": "fe87aff8",
   "metadata": {
    "collapsed": true
   },
   "outputs": [
    {
     "data": {
      "text/plain": [
       "array([4.        , 4.06122449, 4.12244898, 4.18367347, 4.24489796,\n",
       "       4.30612245, 4.36734694, 4.42857143, 4.48979592, 4.55102041,\n",
       "       4.6122449 , 4.67346939, 4.73469388, 4.79591837, 4.85714286,\n",
       "       4.91836735, 4.97959184, 5.04081633, 5.10204082, 5.16326531,\n",
       "       5.2244898 , 5.28571429, 5.34693878, 5.40816327, 5.46938776,\n",
       "       5.53061224, 5.59183673, 5.65306122, 5.71428571, 5.7755102 ,\n",
       "       5.83673469, 5.89795918, 5.95918367, 6.02040816, 6.08163265,\n",
       "       6.14285714, 6.20408163, 6.26530612, 6.32653061, 6.3877551 ,\n",
       "       6.44897959, 6.51020408, 6.57142857, 6.63265306, 6.69387755,\n",
       "       6.75510204, 6.81632653, 6.87755102, 6.93877551, 7.        ])"
      ]
     },
     "execution_count": 69,
     "metadata": {},
     "output_type": "execute_result"
    }
   ],
   "source": [
    "np.linspace(random.randint(2,10),random.randint(2,10))"
   ]
  },
  {
   "cell_type": "code",
   "execution_count": 72,
   "id": "3021847e",
   "metadata": {
    "collapsed": true
   },
   "outputs": [
    {
     "data": {
      "text/plain": [
       "array([2.        , 2.04081633, 2.08163265, 2.12244898, 2.16326531,\n",
       "       2.20408163, 2.24489796, 2.28571429, 2.32653061, 2.36734694,\n",
       "       2.40816327, 2.44897959, 2.48979592, 2.53061224, 2.57142857,\n",
       "       2.6122449 , 2.65306122, 2.69387755, 2.73469388, 2.7755102 ,\n",
       "       2.81632653, 2.85714286, 2.89795918, 2.93877551, 2.97959184,\n",
       "       3.02040816, 3.06122449, 3.10204082, 3.14285714, 3.18367347,\n",
       "       3.2244898 , 3.26530612, 3.30612245, 3.34693878, 3.3877551 ,\n",
       "       3.42857143, 3.46938776, 3.51020408, 3.55102041, 3.59183673,\n",
       "       3.63265306, 3.67346939, 3.71428571, 3.75510204, 3.79591837,\n",
       "       3.83673469, 3.87755102, 3.91836735, 3.95918367, 4.        ])"
      ]
     },
     "execution_count": 72,
     "metadata": {},
     "output_type": "execute_result"
    }
   ],
   "source": [
    "np.linspace(2,4)"
   ]
  },
  {
   "cell_type": "code",
   "execution_count": 90,
   "id": "29c30c22",
   "metadata": {
    "collapsed": true
   },
   "outputs": [
    {
     "data": {
      "text/plain": [
       "array([[ 0,  1,  2,  3,  4,  5,  6,  7,  8,  9, 10, 11, 12, 13, 14, 15,\n",
       "        16, 17, 18, 19]])"
      ]
     },
     "execution_count": 90,
     "metadata": {},
     "output_type": "execute_result"
    }
   ],
   "source": [
    "# to create a certain number of random values in an array\n",
    "np.arange(10).reshape(2,5)\n",
    "np.arange(20).reshape(1,20)\n",
    "# you will get an error if you do not get the right dimensions"
   ]
  },
  {
   "cell_type": "code",
   "execution_count": 124,
   "id": "5175f25d",
   "metadata": {
    "collapsed": true
   },
   "outputs": [
    {
     "name": "stdout",
     "output_type": "stream",
     "text": [
      "a =  [1 2 3 4 5]\n",
      "b =  [ 6  7  8  9 10]\n",
      "Addition\n",
      " [ 7  9 11 13 15]\n",
      "dot =  130\n",
      "multiplication =  [ 6 14 24 36 50]\n"
     ]
    }
   ],
   "source": [
    "# operations on the arrays\n",
    "a = np.array([i for i in range(1,6)])\n",
    "b = np.array([i for i in range(6,11)])\n",
    "\n",
    "print(\"a = \",a)\n",
    "print(\"b = \",b)\n",
    "# addition operation\n",
    "print(\"Addition\\n\", (a+b))\n",
    "# dot operation\n",
    "print(\"dot = \",a.dot(b))\n",
    "\n",
    "# multiplication operation\n",
    "print(\"multiplication = \", a*b)"
   ]
  },
  {
   "cell_type": "code",
   "execution_count": 128,
   "id": "ad1baf22",
   "metadata": {},
   "outputs": [
    {
     "data": {
      "text/plain": [
       "array([[ 0,  1,  2,  3,  4,  5,  6,  7,  8,  9, 10, 11, 12, 13, 14, 15,\n",
       "        16, 17, 18, 19, 20, 21, 22, 23, 24],\n",
       "       [25, 26, 27, 28, 29, 30, 31, 32, 33, 34, 35, 36, 37, 38, 39, 40,\n",
       "        41, 42, 43, 44, 45, 46, 47, 48, 49]])"
      ]
     },
     "execution_count": 128,
     "metadata": {},
     "output_type": "execute_result"
    }
   ],
   "source": [
    "# shape manipulation\n",
    "# When you put -1 in the shape, numpy infers it from the other dimensions, \n",
    "# that is replaces -1 with product of all dimensions of a / product of all specified shapes\n",
    "f = np.arange(50)\n",
    "f.reshape(2,-1)"
   ]
  },
  {
   "cell_type": "code",
   "execution_count": 132,
   "id": "d095de15",
   "metadata": {},
   "outputs": [
    {
     "name": "stdout",
     "output_type": "stream",
     "text": [
      "[0 1 2 3 4 5 6 7 8 9]\n"
     ]
    },
    {
     "data": {
      "text/plain": [
       "3"
      ]
     },
     "execution_count": 132,
     "metadata": {},
     "output_type": "execute_result"
    }
   ],
   "source": [
    "# indexing\n",
    "f = np.arange(10)\n",
    "print(f)\n",
    "f[3]"
   ]
  },
  {
   "cell_type": "code",
   "execution_count": 136,
   "id": "3a07f038",
   "metadata": {},
   "outputs": [
    {
     "data": {
      "text/plain": [
       "array([0, 2, 4])"
      ]
     },
     "execution_count": 136,
     "metadata": {},
     "output_type": "execute_result"
    }
   ],
   "source": [
    "# slicing\n",
    "f[:5:2]"
   ]
  },
  {
   "cell_type": "code",
   "execution_count": 173,
   "id": "49a84d6e",
   "metadata": {},
   "outputs": [
    {
     "name": "stdout",
     "output_type": "stream",
     "text": [
      "[0 1 2 3 4 5 6 7 8 9]\n",
      "[[0 1 2 3 4]\n",
      " [5 6 7 8 9]]\n",
      "2\n",
      "7\n"
     ]
    },
    {
     "data": {
      "text/plain": [
       "array([[2],\n",
       "       [7]])"
      ]
     },
     "execution_count": 173,
     "metadata": {},
     "output_type": "execute_result"
    }
   ],
   "source": [
    "# finding the middle values\n",
    "g = np.arange(10)\n",
    "print(g)\n",
    "g = g.reshape(2,-1)\n",
    "print(g)\n",
    "print(g[0][2])\n",
    "print(g[1][2])\n",
    "# g[2,2]\n",
    "# using slicing to find the the middle value\n",
    "g[0:2,2:3]\n"
   ]
  },
  {
   "cell_type": "code",
   "execution_count": 192,
   "id": "0946cc01",
   "metadata": {},
   "outputs": [
    {
     "name": "stdout",
     "output_type": "stream",
     "text": [
      "[-2.65421167  0.87880463  0.2637726  -0.56045078 -0.39665411 -0.26475692\n",
      " -0.20130557 -1.00312848 -0.10351941 -1.684562  ]\n"
     ]
    },
    {
     "data": {
      "text/plain": [
       "0.8788046265284194"
      ]
     },
     "execution_count": 192,
     "metadata": {},
     "output_type": "execute_result"
    }
   ],
   "source": [
    "# creating random values\n",
    "h = np.random.randn(10)\n",
    "\n",
    "print(h)\n",
    "# calculating the mean\n",
    "np.max(h)"
   ]
  },
  {
   "cell_type": "code",
   "execution_count": null,
   "id": "7c4b2ae5",
   "metadata": {},
   "outputs": [],
   "source": [
    "# calculate the standard deviation\n"
   ]
  }
 ],
 "metadata": {
  "kernelspec": {
   "display_name": "Python 3 (ipykernel)",
   "language": "python",
   "name": "python3"
  },
  "language_info": {
   "codemirror_mode": {
    "name": "ipython",
    "version": 3
   },
   "file_extension": ".py",
   "mimetype": "text/x-python",
   "name": "python",
   "nbconvert_exporter": "python",
   "pygments_lexer": "ipython3",
   "version": "3.9.4"
  }
 },
 "nbformat": 4,
 "nbformat_minor": 5
}
